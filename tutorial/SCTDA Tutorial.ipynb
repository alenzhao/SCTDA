{
 "metadata": {
  "name": ""
 },
 "nbformat": 3,
 "nbformat_minor": 0,
 "worksheets": [
  {
   "cells": [
    {
     "cell_type": "markdown",
     "metadata": {},
     "source": [
      "<h1>SCTDA Tutorial</h1>\n",
      "\n",
      "SCTDA is a python library for topological data analysis of high-throughput single-cell RNA-seq expression data. It includes tools for preprocessing, analysis and exploration of single-cell RNA-seq data, based on topological condensed representations produced by software such as Mapper or Ayasdi. This tutorial illustrates the basic SCTDA workflow, using the motor neuron dataset of _Rizvi A, Camara PG, Kandror E, Rabadan R, Maniatis T, \"Title\"_, as an example. "
     ]
    },
    {
     "cell_type": "code",
     "collapsed": false,
     "input": [
      "import SCTDA"
     ],
     "language": "python",
     "metadata": {},
     "outputs": [],
     "prompt_number": 1
    },
    {
     "cell_type": "markdown",
     "metadata": {},
     "source": [
      "<h2>1. Preliminary steps</h2>\n",
      "\n",
      "<h3>1.1 Pre-processing</h3>\n",
      "\n",
      "For convenience, SCTDA includes a class for preparing and filtering data based on RNA spike-in's. It takes as input one or more files with read counts produced by <a href=\"http://www-huber.embl.de/users/anders/HTSeq/doc/overview.html\">HTSeq-count</a>. The files can be all from a same time point or from multiple time points. In this tutorial we consider the process of in vitro motor neuron differentiation from mouse embryionic stem cells. The dataset consists of 11 files corresponding to days 2 (2 files), 3 (2 files), 4 (2 files), 5 (2 files) and 6 (3 files). Each file contains the read counts of 40 individual cells. ERCC spike in's from Life Technlogies were used in all samples. \n",
      "\n",
      "The class <font face='courier'>SCTDA.Preprocess</font> permits to read, filter and organize the data, shaping it in the appropriate form for SCTDA. Instances are initialized by providing a list of files with the corresponding timepoints and library id's, as well as the number of cells per file and a common identifier for RNA spike-in read counts:"
     ]
    },
    {
     "cell_type": "code",
     "collapsed": false,
     "input": [
      "files = ['D2_TM009.txt', 'D2_TM010.txt', 'D3_TM011.txt', 'D3_TM012.txt', 'D4_TM013.txt', 'D4_TM015.txt',  \n",
      "         'D5_TM016.txt', 'D5_TM019.txt',  'D6_TM017.txt', 'D6_TM018.txt', 'D6pos_TM014.txt']\n",
      "days = [2, 2, 3, 3, 4, 4, 5, 5, 6, 6, 6]\n",
      "libs = ['TM009', 'TM010', 'TM011', 'TM012', 'TM013', 'TM015', 'TM016', 'TM019', 'TM017', 'TM018', 'TM014']\n",
      "\n",
      "p = SCTDA.Preprocess(files, days, libs, 40, spike='ERCC')"
     ],
     "language": "python",
     "metadata": {},
     "outputs": [],
     "prompt_number": 2
    },
    {
     "cell_type": "markdown",
     "metadata": {},
     "source": [
      "Data statistics can be shown using method <font face='courier'>SCTDA.Preprocess.show_statistics()</font>:"
     ]
    },
    {
     "cell_type": "code",
     "collapsed": false,
     "input": [
      "p.show_statistics();"
     ],
     "language": "python",
     "metadata": {},
     "outputs": [],
     "prompt_number": 3
    },
    {
     "cell_type": "markdown",
     "metadata": {},
     "source": [
      "<img src=\"files/f1.jpg\" style=\"width:500px\">\n",
      "<img src=\"files/f2.jpg\" style=\"width:500px\">"
     ]
    },
    {
     "cell_type": "markdown",
     "metadata": {},
     "source": [
      "When normalizing read counts to transcripts per million (TPM), SCTDA assumes that read counts have been obtained by <a href\"http://www.ncbi.nlm.nih.gov/pubmed/22939981\">CEL-seq</a> or any other single-cell RNA-seq method independent of gene lengths.\n",
      "\n",
      "From the first plot we observe that some cells have very low ratio between spike-in reads and average spike-in reads in the library, presumably due to low sequencing depth. Some other cells have large ratio of spike-in reads and uniquely mapped reads, presumably due to large amounts of degraded RNA. Finally, some cells have very low ratio of spike-in reads and uniquely mapped reads, being large outliers. From the second plot we observe a large amount of transcripts near the detection limit, presumably due to noise. We can filter out all those cells using the method <font face='courier'>SCTDA.Preprocess.save()</font>:"
     ]
    },
    {
     "cell_type": "code",
     "collapsed": false,
     "input": [
      "p.save('table_tpm.tsv', filterXlow=0.1, filterYlow=0.01, filterYhigh=0.8, filterZlow=4.0)"
     ],
     "language": "python",
     "metadata": {},
     "outputs": [
      {
       "metadata": {},
       "output_type": "pyout",
       "prompt_number": 4,
       "text": [
        "(373,\n",
        " {'D2_TM009.txt': 2,\n",
        "  'D2_TM010.txt': 5,\n",
        "  'D3_TM011.txt': 6,\n",
        "  'D3_TM012.txt': 4,\n",
        "  'D4_TM013.txt': 15,\n",
        "  'D4_TM015.txt': 6,\n",
        "  'D5_TM016.txt': 4,\n",
        "  'D5_TM019.txt': 6,\n",
        "  'D6_TM017.txt': 7,\n",
        "  'D6_TM018.txt': 11,\n",
        "  'D6pos_TM014.txt': 1})"
       ]
      }
     ],
     "prompt_number": 4
    },
    {
     "cell_type": "markdown",
     "metadata": {},
     "source": [
      "Parameters <font face='courier'>filterXlow</font> and <font face='courier'>filterXhigh</font> set respectively lower and upper bounds in the ratio between spike-in reads and the average number of spike-in reads in the library. Parameters <font face='courier'>filterYlow</font> and <font face='courier'>filterYhigh</font> set respectively lower and upper bounds in the ratio between spike-in reads and uniquely mapped reads. Parameters <font face='courier'>filterZlow</font> and <font face='courier'>filterZhigh</font> set respectively lower and upper bounds on the number of read counts for each gene and sample. Out of the 440 cells, 373 pass all the above filters. The number of cells that have been filtered out in each file is returned as a dictionary.\n",
      "\n",
      "The above command also produces a tab separated file called <a href=\"files/table_tpm.tsv\"><font face='courier'>table_tpm.tsv</font></a>, where each row correspond to a cell passing all filters. The first column contains a unique identifier of the cell, the second column contains the sampling day, the third column contains the library id and the remaining columns contain log_2(1+TPM) expression values for each gene, after filtering out reads according to <font face='courier'>filterZlow</font> and <font face='courier'>filterZhigh</font> parameters. This table can be used by dedicated software, such as <a href=\"http://danifold.net/mapper/\">Mapper</a> or <a href=\"http://www.ayasdi.com/\">Ayasdi</a>, to build a topological representation, that can be then analyzed using SCTDA."
     ]
    },
    {
     "cell_type": "markdown",
     "metadata": {},
     "source": [
      "<h3>1.2 Parsing the topological graph</h3>\n",
      "\n",
      "Apart from the above tab separated table, SCTDA makes use of a topological condensed representation of the table. This can be produced using software such as <a href=\"http://danifold.net/mapper/\">Mapper</a> or <a href=\"http://www.ayasdi.com/\">Ayasdi</a>. The graph should be in GEXF format, and should be accompanied by two JSON files with the same name as the graph and extension <font face='courier'>.json</font> and <font face='courier'>.groups.json</font>, specifying respectively the rows of the table that are associated to each node of the graph and, optionally, groups of nodes to be considered for subsequent analysis.\n",
      "\n",
      "SCTDA provides a method to generate these files from an existing Ayasdi Core session:"
     ]
    },
    {
     "cell_type": "code",
     "collapsed": false,
     "input": [
      "SCTDA.ParseAyasdiGraph(\"analysis1\", \"1436106543459\", \"-2007646151750978094\", \"username\", \"password\");"
     ],
     "language": "python",
     "metadata": {},
     "outputs": [],
     "prompt_number": 5
    },
    {
     "cell_type": "markdown",
     "metadata": {},
     "source": [
      "This will produce the files <a href=\"files/analysis1.gexf\"><font face='courier'>analysis1.gexf</font></a>, <a href=\"files/analysis1.json\"><font face='courier'>analysis1.json</font></a> and <a href=\"files/analysis1.groups.json\"><font face='courier'>analysis1.groups.json</font></a>. <font face='courier'>\"1436106543459\"</font> and <font face='courier'>\"-2007646151750978094\"</font> are the identifiers of the Ayasdi Core session that we are importing into SCTDA. They can be obtained from the Ayasdi Core session as indicated in the following screenshot:\n",
      "\n",
      "<img src=\"files/f3.jpg\" style=\"width:900px\">"
     ]
    },
    {
     "cell_type": "markdown",
     "metadata": {},
     "source": [
      "<h2>2. Analysis</h2>\n",
      "\n",
      "SCTDA provides two main classes for the analysis of single cell RNA-seq expression data. These are <font face='courier'>SCTDA.UnrootedGraph</font> and <font face='courier'>SCTDA.RootedGraph</font>, respectively for non-longitudinal and longitudinal single cell RNA-seq data. <font face='courier'>SCTDA.RootedGraph</font> is an inherited class from <font face='courier'>SCTDA.UnrootedGraph</font>, so all methods of <font face='courier'>SCTDA.UnrootedGraph</font> are also included in <font face='courier'>SCTDA.RootedGraph</font>, in addition to some methods that are specific of <font face='courier'>SCTDA.RootedGraph</font>. In this tutorial we will make use of <font face='courier'>SCTDA.RootedGraph</font>, as we are dealing with longitudinal data. The class is initialized with the data produced in the prelimiary steps described above: "
     ]
    },
    {
     "cell_type": "code",
     "collapsed": false,
     "input": [
      "c = SCTDA.RootedGraph(\"analysis1\", \"table_tpm.tsv\");"
     ],
     "language": "python",
     "metadata": {},
     "outputs": [],
     "prompt_number": 6
    },
    {
     "cell_type": "markdown",
     "metadata": {},
     "source": [
      "The class includes several methods for the analysis and visulization of data."
     ]
    },
    {
     "cell_type": "markdown",
     "metadata": {},
     "source": [
      "<h3>2.1 Exploring and visualizing the data</h3>\n",
      "\n",
      "We can show some general statistics using the method <font face='courier'>SCTDA.RootedGraph.show_statistics()</font>:"
     ]
    },
    {
     "cell_type": "code",
     "collapsed": false,
     "input": [
      "c.show_statistics();"
     ],
     "language": "python",
     "metadata": {},
     "outputs": [],
     "prompt_number": 7
    },
    {
     "cell_type": "markdown",
     "metadata": {},
     "source": [
      "<img src=\"files/f4.jpg\" style=\"width:500px\"><img src=\"files/f5.jpg\" style=\"width:500px\">\n",
      "<img src=\"files/f6.jpg\" style=\"width:500px\"><img src=\"files/f7.jpg\" style=\"width:500px\">"
     ]
    },
    {
     "cell_type": "markdown",
     "metadata": {},
     "source": [
      "First plot shows the distribution of the number of cells per node in the topological representation. Second plot presents the distribution of the number of common cells between nodes that share an edge in the topological representation. Third plot contains the distribution of the number of nodes that contain the same cell. Finally, fourth plot shows the distribution of transcripts in $\\textrm{log}_2(1+\\textrm{TPM})$ scale, after filtering. Note the difference between this plot and the corresponding one before filtering, shown above.\n",
      "\n",
      "We can use method <font face='courier'>SCTDA.RootedGraph.draw()</font> to display the topological representation colored by the expression of a given gene:"
     ]
    },
    {
     "cell_type": "code",
     "collapsed": false,
     "input": [
      "c.draw('Dnmt3b');"
     ],
     "language": "python",
     "metadata": {},
     "outputs": [],
     "prompt_number": 8
    },
    {
     "cell_type": "markdown",
     "metadata": {},
     "source": [
      "<img src=\"files/f8.jpg\" style=\"width:650px\">"
     ]
    },
    {
     "cell_type": "markdown",
     "metadata": {},
     "source": [
      "Node sizes are proportional to the number of cells in the node. <font face='courier'>SCTDA.RootedGraph.draw()</font> also allows to map a gene or list of genes to red, green and blue channels:"
     ]
    },
    {
     "cell_type": "code",
     "collapsed": false,
     "input": [
      "c.draw(['Dnmt3b','Egfp', 'Foxa1']);"
     ],
     "language": "python",
     "metadata": {},
     "outputs": [],
     "prompt_number": 9
    },
    {
     "cell_type": "markdown",
     "metadata": {},
     "source": [
      "<img src=\"files/f9.jpg\" style=\"width:650px\">"
     ]
    },
    {
     "cell_type": "markdown",
     "metadata": {},
     "source": [
      "With the option <font face='courier'>table=True</font>, it will also display some statistics (see below for a more detailed description of each quantity):"
     ]
    },
    {
     "cell_type": "code",
     "collapsed": false,
     "input": [
      "c.draw(['Dnmt3b','Egfp', 'Foxa1'], table=True);"
     ],
     "language": "python",
     "metadata": {},
     "outputs": [],
     "prompt_number": 10
    },
    {
     "cell_type": "markdown",
     "metadata": {},
     "source": [
      "<img src=\"files/f10.jpg\" style=\"width:650px\">"
     ]
    },
    {
     "cell_type": "markdown",
     "metadata": {},
     "source": [
      "<font face='courier'>SCTDA.RootedGraph.draw()</font> is not limited to single genes, it can also map lists of genes to a channel:"
     ]
    },
    {
     "cell_type": "code",
     "collapsed": false,
     "input": [
      "c.draw([['Dnmt3b', 'Dppa2', 'Dnmt3l'],'Egfp', 'Foxa1']);"
     ],
     "language": "python",
     "metadata": {},
     "outputs": [],
     "prompt_number": 11
    },
    {
     "cell_type": "markdown",
     "metadata": {},
     "source": [
      "<img src=\"files/f11.jpg\" style=\"width:650px\">"
     ]
    },
    {
     "cell_type": "markdown",
     "metadata": {},
     "source": [
      "<font face='courier'>SCTDA.RootedGraph.draw()</font> also accepts some special keywords. The keyword <font face='courier'>'timepoint'</font> can be used to color acccording to the sampling timepoint:"
     ]
    },
    {
     "cell_type": "code",
     "collapsed": false,
     "input": [
      "c.draw('timepoint');"
     ],
     "language": "python",
     "metadata": {},
     "outputs": [],
     "prompt_number": 12
    },
    {
     "cell_type": "markdown",
     "metadata": {},
     "source": [
      "<img src=\"files/f12.jpg\" style=\"width:650px\">"
     ]
    },
    {
     "cell_type": "markdown",
     "metadata": {},
     "source": [
      "Note how the topoological representation, based just on expression data, reproduces correctly the differentiation timeline.\n",
      "\n",
      "Similarly, the keyword <font face='courier'>'timepoint\\_'</font> can be used to plot the density of cells of a given timepoint,"
     ]
    },
    {
     "cell_type": "code",
     "collapsed": false,
     "input": [
      "c.draw('timepoint_5');"
     ],
     "language": "python",
     "metadata": {},
     "outputs": [],
     "prompt_number": 13
    },
    {
     "cell_type": "markdown",
     "metadata": {},
     "source": [
      "<img src=\"files/f13.jpg\" style=\"width:650px\">"
     ]
    },
    {
     "cell_type": "markdown",
     "metadata": {},
     "source": [
      "SCTDA determines a root node in the topological representation by maximizing the correlation between sampling timepoints and the graph distance function. The root node corresponds to the less differentiated state. We can color according to the distance to the root node using the keyword <font face='courier'>'\\_dist\\_root'</font>,"
     ]
    },
    {
     "cell_type": "code",
     "collapsed": false,
     "input": [
      "c.draw('_dist_root');"
     ],
     "language": "python",
     "metadata": {},
     "outputs": [],
     "prompt_number": 14
    },
    {
     "cell_type": "markdown",
     "metadata": {},
     "source": [
      "<img src=\"files/f14.jpg\" style=\"width:650px\">"
     ]
    },
    {
     "cell_type": "markdown",
     "metadata": {},
     "source": [
      "Correlation between sampling timepoint and distance to root node can be visualized using <font face='courier'>SCTDA.RootedGraph.plot_rootlane_correlation()</font>,"
     ]
    },
    {
     "cell_type": "code",
     "collapsed": false,
     "input": [
      "c.plot_rootlane_correlation()"
     ],
     "language": "python",
     "metadata": {},
     "outputs": [
      {
       "metadata": {},
       "output_type": "pyout",
       "prompt_number": 15,
       "text": [
        "(2.579181287149348,\n",
        " -3.5195814841484552,\n",
        " 0.89109027529004081,\n",
        " 2.2097001444641111e-141,\n",
        " 0.065190844804728809)"
       ]
      }
     ],
     "prompt_number": 15
    },
    {
     "cell_type": "markdown",
     "metadata": {},
     "source": [
      "<img src=\"files/f15.jpg\" style=\"width:550px\">"
     ]
    },
    {
     "cell_type": "markdown",
     "metadata": {},
     "source": [
      "<font face='courier'>SCTDA.RootedGraph.plot_rootlane_correlation()</font> returns the two parameters of the linear fit, Pearson's r, p-value and the standard error.\n",
      "\n",
      "The method <font face='courier'>SCTDA.RootedGraph.draw_expr_timeline()</font> can be used to draw the expression of a gene or list of genes at different timepoints, as inferred from the distance to root function,"
     ]
    },
    {
     "cell_type": "code",
     "collapsed": false,
     "input": [
      "c.draw_expr_timeline('Dnmt3b');"
     ],
     "language": "python",
     "metadata": {},
     "outputs": [],
     "prompt_number": 16
    },
    {
     "cell_type": "markdown",
     "metadata": {},
     "source": [
      "<img src=\"files/f16.jpg\" style=\"width:650px\">"
     ]
    },
    {
     "cell_type": "code",
     "collapsed": false,
     "input": [
      "c.draw_expr_timeline(['Dnmt3b', 'Dppa2', 'Dnmt3l', 'Dppa4']);"
     ],
     "language": "python",
     "metadata": {},
     "outputs": [],
     "prompt_number": 17
    },
    {
     "cell_type": "markdown",
     "metadata": {},
     "source": [
      "<img src=\"files/f17.jpg\" style=\"width:650px\">"
     ]
    },
    {
     "cell_type": "markdown",
     "metadata": {},
     "source": [
      "Finally, we can also display a skeleton of the differentiation tree using <font face='courier'>SCTDA.RootedGraph.draw_skeleton()</font>, colored according to a gene or list of genes, where each node in the skeleton corresponds to a set of connected nodes at the same distance of the root node in the topological condensed representation. Node sizes are proportional to the number of cells in the node, whereas edge sizes are proportional to the number of edges in the topological condensed representation connecting each pair of group of nodes."
     ]
    },
    {
     "cell_type": "code",
     "collapsed": false,
     "input": [
      "c.draw_skeleton('Dnmt3b');"
     ],
     "language": "python",
     "metadata": {},
     "outputs": [],
     "prompt_number": 18
    },
    {
     "cell_type": "markdown",
     "metadata": {},
     "source": [
      "<img src=\"files/f18.jpg\" style=\"width:650px\">"
     ]
    },
    {
     "cell_type": "markdown",
     "metadata": {},
     "source": [
      "<h3>Connectivity, centroid and dispersion</h3>\n",
      "\n",
      "There are several statistics that can be associated to each gene and that allow to identify genes that are specific of particular cell subpopulations or timepoints. The first quantity that we may consider is the connectivity of the expression of a gene in the topological representation. This is defined as,\n",
      "\n",
      "\\begin{equation}\n",
      "S(g) = \\frac{N-1}{N}\\sum_{i,j} p_i(g) w_{ij} p_j(g)\n",
      "\\end{equation}\n",
      "\n",
      "where the sum runs over all nodes in the topological condensed representation, $w$ is the adjacency matrix of the topological condensed representation, $N$ the total number of nodes and $p_i(g)$ the average expression of gene $g$ on node $i$, normalized as a probablity, namely\n",
      "\n",
      "\\begin{equation}\n",
      "\\sum_i p_i = 1\n",
      "\\end{equation}\n",
      "\n",
      "Connectivity allows to identify genes whose expression appears as highly connected in the topological representation. The connectivity of a gene can be computed using the method <font face='courier'>SCTDA.RootedGraph.connectivity()</font>,"
     ]
    },
    {
     "cell_type": "code",
     "collapsed": false,
     "input": [
      "c.connectivity('Lhx3')"
     ],
     "language": "python",
     "metadata": {},
     "outputs": [
      {
       "metadata": {},
       "output_type": "pyout",
       "prompt_number": 19,
       "text": [
        "0.12959353154921011"
       ]
      }
     ],
     "prompt_number": 19
    },
    {
     "cell_type": "markdown",
     "metadata": {},
     "source": [
      "The statistical significance of a particular connectivity score can be assesed by means of a permutation test, where cell labels are randomly permuted. This is implemented in the method <font face='courier'>sctda.RottedGraph.connectivity_pvalue()</font>,"
     ]
    },
    {
     "cell_type": "code",
     "collapsed": false,
     "input": [
      "c.connectivity_pvalue('Lhx3', n=5000)"
     ],
     "language": "python",
     "metadata": {},
     "outputs": [
      {
       "metadata": {},
       "output_type": "pyout",
       "prompt_number": 20,
       "text": [
        "0.0"
       ]
      }
     ],
     "prompt_number": 20
    },
    {
     "cell_type": "markdown",
     "metadata": {},
     "source": [
      "where <font face='courier'>n</font> specifies the number of permutations. The idea is that genes with a statistically significant connectivity, like the above example, are biologically relevant at a particular stage or for a particular cell subpopulation, "
     ]
    },
    {
     "cell_type": "code",
     "collapsed": false,
     "input": [
      "c.draw('Lhx3');"
     ],
     "language": "python",
     "metadata": {},
     "outputs": [],
     "prompt_number": 21
    },
    {
     "cell_type": "markdown",
     "metadata": {},
     "source": [
      "<img src=\"files/f19.jpg\" style=\"width:650px\">"
     ]
    },
    {
     "cell_type": "markdown",
     "metadata": {},
     "source": [
      "On the contrary, genes with a non-significant connectivity in the topological condensed representation are inspecific of any stage or cell subpopulation, e.g."
     ]
    },
    {
     "cell_type": "code",
     "collapsed": false,
     "input": [
      "c.connectivity_pvalue('St6gal1', n=5000)"
     ],
     "language": "python",
     "metadata": {},
     "outputs": [
      {
       "metadata": {},
       "output_type": "pyout",
       "prompt_number": 22,
       "text": [
        "0.99880000000000002"
       ]
      }
     ],
     "prompt_number": 22
    },
    {
     "cell_type": "code",
     "collapsed": false,
     "input": [
      "c.draw('St6gal1');"
     ],
     "language": "python",
     "metadata": {},
     "outputs": [],
     "prompt_number": 23
    },
    {
     "cell_type": "markdown",
     "metadata": {},
     "source": [
      "<img src=\"files/f20.jpg\" style=\"width:650px\">"
     ]
    },
    {
     "cell_type": "markdown",
     "metadata": {},
     "source": [
      "Another interesting quantity is the centroid of a gene with respect to the root node and its dispersion. These are respectively defined as\n",
      "\n",
      "\\begin{equation}\n",
      "C(g)=\\sum_i d_i p_i(g)\n",
      "\\end{equation}\n",
      "\\begin{equation}\n",
      "D(g) = \\sqrt{\\sum_i (d_i - C(g))^2p_i(g)}\n",
      "\\end{equation}\n",
      "\n",
      "where $d_i$ is the distance of node $i$ to the root node in the topological representation.\n",
      "\n",
      "The centroid and dispersion of a gene or list of genes can be computed using the method <font face='courier'>SCTDA.RootedGraph.centroid()</font>,"
     ]
    },
    {
     "cell_type": "code",
     "collapsed": false,
     "input": [
      "c.centroid('Lhx3')"
     ],
     "language": "python",
     "metadata": {},
     "outputs": [
      {
       "metadata": {},
       "output_type": "pyout",
       "prompt_number": 24,
       "text": [
        "[12.60030777275247, 2.5465951516563292]"
       ]
      }
     ],
     "prompt_number": 24
    },
    {
     "cell_type": "markdown",
     "metadata": {},
     "source": [
      "Other interesting methods are <font face='courier'>SCTDA.RootedGraph.expr()</font>, that returns the number of cells on which expression of a gene or list of genes is detected,"
     ]
    },
    {
     "cell_type": "code",
     "collapsed": false,
     "input": [
      "c.expr('Lhx3')"
     ],
     "language": "python",
     "metadata": {},
     "outputs": [
      {
       "metadata": {},
       "output_type": "pyout",
       "prompt_number": 25,
       "text": [
        "93"
       ]
      }
     ],
     "prompt_number": 25
    },
    {
     "cell_type": "markdown",
     "metadata": {},
     "source": [
      "and <font face='courier'>SCTDA.RootedGraph.delta()</font>, that returns the mean, minimum and maximum expression values of a gene or list of genes,"
     ]
    },
    {
     "cell_type": "code",
     "collapsed": false,
     "input": [
      "c.delta('Lhx3')"
     ],
     "language": "python",
     "metadata": {},
     "outputs": [
      {
       "metadata": {},
       "output_type": "pyout",
       "prompt_number": 26,
       "text": [
        "(1.5655427871802245, 0.0, 11.110091334383007)"
       ]
      }
     ],
     "prompt_number": 26
    },
    {
     "cell_type": "markdown",
     "metadata": {},
     "source": [
      "The methods <font face='courier'>SCTDA.RootedGraph.expr()</font> and <font face='courier'>SCTDA.RootedGraph.delta()</font> can be restricted to specific groups of nodes. Groups of nodes are specified in the file <font face='courier'>name.groups.json</font> and stored in the dictionary <font face='courier'>SCTDA.RootedGraph.dicgroups</font>. For instance, in the example of this turorial we have defined three groups of nodes in the file <a href=\"files/analysis1.groups.json\"><font face='courier'>analysis1.groups.json</font></a>. These can be accessed through"
     ]
    },
    {
     "cell_type": "code",
     "collapsed": false,
     "input": [
      "c.dicgroups.keys()"
     ],
     "language": "python",
     "metadata": {},
     "outputs": [
      {
       "metadata": {},
       "output_type": "pyout",
       "prompt_number": 27,
       "text": [
        "[u'Group_3', u'Group_2', u'Group_1']"
       ]
      }
     ],
     "prompt_number": 27
    },
    {
     "cell_type": "markdown",
     "metadata": {},
     "source": [
      "We can restrict the commands <font face='courier'>SCTDA.RootedGraph.expr()</font> and <font face='courier'>SCTDA.RootedGraph.delta()</font> to any of these groups by using the argument <font face='courier'>group=</font>, for instance"
     ]
    },
    {
     "cell_type": "code",
     "collapsed": false,
     "input": [
      "c.expr('Lhx3', group='Group_2')"
     ],
     "language": "python",
     "metadata": {},
     "outputs": [
      {
       "metadata": {},
       "output_type": "pyout",
       "prompt_number": 28,
       "text": [
        "22"
       ]
      }
     ],
     "prompt_number": 28
    },
    {
     "cell_type": "code",
     "collapsed": false,
     "input": [
      "c.delta('Lhx3', group='Group_2')"
     ],
     "language": "python",
     "metadata": {},
     "outputs": [
      {
       "metadata": {},
       "output_type": "pyout",
       "prompt_number": 29,
       "text": [
        "(1.8189051999362191, 0.0, 8.0067929633825727)"
       ]
      }
     ],
     "prompt_number": 29
    },
    {
     "cell_type": "markdown",
     "metadata": {},
     "source": [
      "The method <font face='courier'>SCTDA.RootedGraph.save()</font> can be used to create a file called <font face='courier'>name.genes.tsv</font> containing a tab separated table with all the above quantities, including Bejamini-Holchberg adjusted _p_-values for the connectivity, for all genes in the dataset. This method allows to filter to genes that are expressed in more than <font face='courier'>filtercells</font> cells, and whose maximum expression value is above <font face='courier'>filterexp</font> in $\\textrm{log}_2(1+\\textrm{TPM})$ units. In addition, it allows to annotate genes according to one or more lists of genes.\n",
      "\n",
      "For instance, we have downloaded from <a href=\"http://www.ebi.ac.uk/QuickGO/\">EMBL-EBI QuickGO</a> two tables listing the members of gene ontologies _RNA splicing_ and _Poly-(A) RNA binding_. We can parse the genes in those tables into a dictionary that will be used by the command <font face='courier'>SCTDA.RootedGraph.save()</font> to annotate the genes:"
     ]
    },
    {
     "cell_type": "code",
     "collapsed": false,
     "input": [
      "splic = []\n",
      "rna = []\n",
      "\n",
      "f = open('GO0008380_RNA_spliciing.tsv', 'r')\n",
      "for nb, line in enumerate(f):\n",
      "    if nb > 0:\n",
      "        sp = line.split('\\t')\n",
      "        splic.append(sp[2])\n",
      "f.close()\n",
      "splic = list(set(splic))\n",
      "\n",
      "f = open('GO0044822_polyA_RNA_binding.tsv', 'r')\n",
      "for nb, line in enumerate(f):\n",
      "    if nb > 0:\n",
      "        sp = line.split('\\t')\n",
      "        rna.append(sp[2])\n",
      "f.close()\n",
      "rna = list(set(rna))\n",
      "\n",
      "annotations = {'Splicing': splic, 'RNA_binding': rna}"
     ],
     "language": "python",
     "metadata": {},
     "outputs": [],
     "prompt_number": 30
    },
    {
     "cell_type": "markdown",
     "metadata": {},
     "source": [
      "We use the method <font face='courier'>SCTDA.RootedGraph.save()</font> to create the file <a href=\"files/analysis1.genes.tsv\"><font face='courier'>analysis1.genes.tsv</font></a>, where we only consider genes that are expressed in at least 3 cells and statistical significance is assessed using 500 permutations,"
     ]
    },
    {
     "cell_type": "code",
     "collapsed": false,
     "input": [
      "c.save(n=500, filtercells=2, filterexp=0.0, annotation=annotations);"
     ],
     "language": "python",
     "metadata": {},
     "outputs": [],
     "prompt_number": "*"
    },
    {
     "cell_type": "markdown",
     "metadata": {},
     "source": [
      "<img src=\"files/f21.jpg\" style=\"width:500px\"><img src=\"files/f22.jpg\" style=\"width:550px\">"
     ]
    },
    {
     "cell_type": "markdown",
     "metadata": {},
     "source": [
      "<font face='courier'>SCTDA.RootedGraph.save()</font> produces two plots. The first plot shows connectivity against the number of cells with non-zero expression for each gene. Genes with statistically significant connectivity, after Benjamini-Holchberg adjustement for multiple testing, are displayed in red. The second plot displays, for each gene with statistically significant connectivity, the number of cells with non-zero expression against the centroid and dispersion."
     ]
    },
    {
     "cell_type": "code",
     "collapsed": false,
     "input": [
      "!head analysis1.genes.txt"
     ],
     "language": "python",
     "metadata": {},
     "outputs": [
      {
       "output_type": "stream",
       "stream": "stdout",
       "text": [
        "Gene\tCells\tMean\tMin\tMax\tConnectivity\tp_value\tBH p-value\tCentroid\tDispersion\tRNA_binding\tSplicing\r\n",
        "0610005C13Rik\t14\t0.198694162832\t0.0\t7.69687430733\t0.491899434885\t0.348\t0.498200404274\t2.13654861826\t0.34337019834\tN\tN\r\n",
        "0610007N19Rik\t49\t0.323586061092\t0.0\t6.67145245523\t0.231988524797\t0.008\t0.0349439060206\t7.74960302367\t1.5264259055\tN\tN\r\n",
        "0610007P14Rik\t224\t2.75062901852\t0.0\t7.98458917465\t0.0597732295778\t0.0\t0.0\t6.95066035671\t3.64528334651\tN\tN\r\n",
        "0610009B22Rik\t215\t2.98318681881\t0.0\t9.45939490966\t0.0620638449591\t0.016\t0.0590784508441\t6.37903135362\t3.59725914954\tN\tN\r\n",
        "0610009D07Rik\t266\t4.19883560799\t0.0\t10.2019864242\t0.0469198253624\t0.004\t0.0202560435819\t7.33796668181\t4.00851910508\tN\tN\r\n",
        "0610009L18Rik\t8\t0.0907876654703\t0.0\t5.09394006337\t0.876290672568\t0.284\t0.436131337119\t8.65379939677\t0.475758074606\tN\tN\r\n",
        "0610009O20Rik\t137\t1.01949100516\t0.0\t7.18446949866\t0.089651927139\t0.072\t0.173502268308\t7.27157840764\t4.04720875173\tN\tN\r\n",
        "0610010B08Rik\t32\t0.0802733186134\t0.0\t4.10256258502\t0.296819255868\t0.15\t0.286533521706\t7.12216833973\t2.07111998126\tN\tN\r\n",
        "0610010F05Rik\t192\t2.66586537224\t0.0\t10.0240367061\t0.0632485112971\t0.31\t0.462961140677\t7.77142201473\t4.25352728931\tN\tN\r\n"
       ]
      }
     ],
     "prompt_number": 57
    },
    {
     "cell_type": "markdown",
     "metadata": {},
     "source": [
      "<h3>2.3 Adjacency and cell subpopulations</h3>\n",
      "\n",
      "A natural extension of the concept of connectivity to pairs of genes is that of adjacency, defined as\n",
      "\n",
      "\\begin{equation}\n",
      "A(g,h) = \\frac{N-1}{N}\\sum_{i,j} p_i(g) w_{ij} p_j(h)\n",
      "\\end{equation}\n",
      "\n",
      "Adjacency takes high values when the expression of genes $g$ and $h$ are adjacent to each other in the topological representation. Note that when $g=h$, adjacency becomes connectivity.\n",
      "\n",
      "The adjacency matrix of a list of genes can be computed in SCTDA using the method,"
     ]
    },
    {
     "cell_type": "code",
     "collapsed": false,
     "input": [
      "a = c.adjacency_matrix(['Dnmt3b', 'Dppa2', 'Dnmt3l', 'Dppa4', 'Lhx3']);\n",
      "print a"
     ],
     "language": "python",
     "metadata": {},
     "outputs": [
      {
       "output_type": "stream",
       "stream": "stdout",
       "text": [
        "[[ 0.07546426  0.07197224  0.07238027  0.07201561  0.00710653]\n",
        " [ 0.07197224  0.09104796  0.08555381  0.07007939  0.        ]\n",
        " [ 0.07238027  0.08555381  0.11159461  0.07611521  0.        ]\n",
        " [ 0.07201561  0.07007939  0.07611521  0.08636352  0.0004148 ]\n",
        " [ 0.00710653  0.          0.          0.0004148   0.12959353]]\n"
       ]
      }
     ],
     "prompt_number": 5
    },
    {
     "cell_type": "markdown",
     "metadata": {},
     "source": [
      "SCTDA makes use of adjacency and Jensen-Shannon distance to look for potential cell subpopulations. Jensen-Shannon distance is defined as,\n",
      "\n",
      "\\begin{equation}\n",
      "J(g,h) = \\left[\\frac12\\sum_i\\left(p_i(g)\\textrm{log }p_i(g)+p_i(h)\\textrm{log }p_i(h)-(p_i(g)+p_i(h))\\textrm{log }\\frac{p_i(g)+p_i(h)}{2}\\right)\\right]^{\\frac12}\n",
      "\\end{equation}\n",
      "\n",
      "And it is implemented in SCTDA thorugh the following method,"
     ]
    },
    {
     "cell_type": "code",
     "collapsed": false,
     "input": [
      "b = c.JSD_matrix(['Dnmt3b', 'Dppa2', 'Dnmt3l', 'Dppa4', 'Lhx3'])\n",
      "print b"
     ],
     "language": "python",
     "metadata": {},
     "outputs": [
      {
       "output_type": "stream",
       "stream": "stdout",
       "text": [
        "[[ 0.          0.55105197  0.62788196  0.55417842  0.95451214]\n",
        " [ 0.55105197  0.          0.63299325  0.60159545  1.        ]\n",
        " [ 0.62788196  0.63299325  0.          0.66150927  1.        ]\n",
        " [ 0.55417842  0.60159545  0.66150927  0.          0.99758009]\n",
        " [ 0.95451214  1.          1.          0.99758009  0.        ]]\n"
       ]
      }
     ],
     "prompt_number": 7
    },
    {
     "cell_type": "markdown",
     "metadata": {},
     "source": [
      "We finish this tutorial by showing how SCTDA can be used to look for cell subpopulations in an unsupervised way. The 3d plot produced by <font face='courier'>SCTDA.RootedGraph.save()</font> for our particular example shows three \"flares\" corresponding to three sets of genes with low dispersion and statistically significant connectivity corresponding to centroids in three different ranges. Let us consider the second group (corresponding to progenitor motor neurons),"
     ]
    },
    {
     "cell_type": "code",
     "collapsed": false,
     "input": [
      "group2 = []\n",
      "f = open('analysis1.genes.txt', 'r')\n",
      "for n, line in enumerate(f):\n",
      "    if n>0:\n",
      "        sp = line[:-1].split('\\t')\n",
      "        if float(sp[7]) <= 0.05 and 7.5 < float(sp[8]) < 8.8 and float(sp[9]) < 1.9:\n",
      "            group2.append(sp[0])\n",
      "f.close()"
     ],
     "language": "python",
     "metadata": {},
     "outputs": [],
     "prompt_number": 3
    },
    {
     "cell_type": "code",
     "collapsed": false,
     "input": [
      "c.draw([group2]);"
     ],
     "language": "python",
     "metadata": {},
     "outputs": [],
     "prompt_number": 49
    },
    {
     "cell_type": "markdown",
     "metadata": {},
     "source": [
      "<img src=\"files/f23.jpg\" style=\"width:650px\">"
     ]
    },
    {
     "cell_type": "markdown",
     "metadata": {},
     "source": [
      "A list of potential cell subpopulations based on these genes can be produced using the method <font face='courier'>SCTDA.RootedGraph.candidate_supopoulations()</font>,"
     ]
    },
    {
     "cell_type": "code",
     "collapsed": false,
     "input": [
      "u = c.candidate_subpopulations(group2, thres=0.05);"
     ],
     "language": "python",
     "metadata": {},
     "outputs": [],
     "prompt_number": 6
    },
    {
     "cell_type": "markdown",
     "metadata": {},
     "source": [
      "<img src=\"files/f24.jpg\" style=\"width:500px\"><img src=\"files/f25.jpg\" style=\"width:600px\">"
     ]
    },
    {
     "cell_type": "markdown",
     "metadata": {},
     "source": [
      "<font face='courier'>SCTDA.RootedGraph.candidate_supopoulations()</font> computes the adjacency and Jensen-Shannon matrices of the genes and looks for pairs of genes that have both high adjacency and high Jensen-Shannon distance. A threshold in this 2d space is set using the option <font face='courier'>thres</font>, taking values between 0 and 1. The first plot produced by <font face='courier'>SCTDA.RootedGraph.candidate_supopoulations()</font> displays the distribution is this 2d space of all considered pairs of genes, with pairs passing the threshold marked in red. Genes that appear in pairs of genes that pass the threshold are then clustered using hierarchical clustering and Jensen-Shannon distance. In our particular example, three potential types/stages of preogenitor motor neurons are detected. At the end of this process, <font face='courier'>SCTDA.RootedGraph.candidate_supopoulations()</font> returns a list with the genes in each of the clusters defining potential cell subpopulations,"
     ]
    },
    {
     "cell_type": "code",
     "collapsed": false,
     "input": [
      "print u"
     ],
     "language": "python",
     "metadata": {},
     "outputs": [
      {
       "output_type": "stream",
       "stream": "stdout",
       "text": [
        "[['4921504A21Rik', 'Vmn2r15', 'Doc2g', 'Ndp', '1810044D09Rik', 'Aim1', 'Hes2', 'Phxr4', 'Ptprz1', 'Lonrf3', '3110045C21Rik', 'Hist1h4c', 'Vpreb1', 'Sstr2', 'Arhgap31', '1500015A07Rik'], ['Gzmm', 'Htra2', 'Taco1', 'Spin4', 'Kcnj10', 'Adamts1', 'Ubxn11', 'Slc25a21', 'Shisa3', 'Wnt1', 'Tnfrsf22', 'C430049B03Rik', 'Foxc1', 'Gem', 'Cpne2', 'Sv2b', 'Gm266', 'Pkmyt1', 'Btbd8', 'Gpr142', 'Uhmk1', 'Cdca7l', 'Fas', 'Il4ra', 'Fsip1', 'Dbil5'], ['Zfp109', 'Sorcs1', 'Pglyrp2', 'BC024139', '4930451G09Rik', 'Tekt1', 'Ccdc122', 'Echdc3', 'A330021E22Rik', 'Mal', 'Slc16a4', 'Emp2', 'Diap3', 'Larp6', 'Tmem229a', 'Smim1', 'Cd44', 'Cxcl16', 'Fam187b', 'Smim3', 'Sema3b']]\n"
       ]
      }
     ],
     "prompt_number": 12
    },
    {
     "cell_type": "code",
     "collapsed": false,
     "input": [
      "c.draw(u);"
     ],
     "language": "python",
     "metadata": {},
     "outputs": [],
     "prompt_number": 5
    },
    {
     "cell_type": "markdown",
     "metadata": {},
     "source": [
      "<img src=\"files/f26.jpg\" style=\"width:650px\">"
     ]
    }
   ],
   "metadata": {}
  }
 ]
}